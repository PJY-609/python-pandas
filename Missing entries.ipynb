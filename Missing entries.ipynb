{
 "cells": [
  {
   "cell_type": "markdown",
   "metadata": {},
   "source": [
    "## How to manipulate missing entries using pandas python\n",
    "[tutorial](https://www.youtube.com/watch?v=ht5buXUMqkQ)\n",
    "* **```df.isnull()```**\n",
    "* **```pd.read_csv(name.csv, na_values= )```**\n",
    "* **```df.isnull().sum()(.sum())```**  \n",
    "  \n",
    "  \n",
    "* To deal with special entries   \n",
    "**```try:  \n",
    "    int(row)  \n",
    "     ...  \n",
    "except ValueError: pass```**  \n",
    "  \n",
    "  \n",
    "* Three ways to fill out missing entries  \n",
    "    * **```df.loc```**\n",
    "    * **```df.fillna(values, inplace=True)```**\n",
    "    * **```df.fillna(median, inplace-Ture)```**"
   ]
  },
  {
   "cell_type": "code",
   "execution_count": 1,
   "metadata": {},
   "outputs": [
    {
     "data": {
      "text/plain": [
       "['property data.csv']"
      ]
     },
     "execution_count": 1,
     "metadata": {},
     "output_type": "execute_result"
    }
   ],
   "source": [
    "import os\n",
    "os.chdir('E:/videos-master/cleaning messy data with pandas/')\n",
    "os.listdir()"
   ]
  },
  {
   "cell_type": "code",
   "execution_count": 2,
   "metadata": {},
   "outputs": [
    {
     "data": {
      "text/html": [
       "<div>\n",
       "<style scoped>\n",
       "    .dataframe tbody tr th:only-of-type {\n",
       "        vertical-align: middle;\n",
       "    }\n",
       "\n",
       "    .dataframe tbody tr th {\n",
       "        vertical-align: top;\n",
       "    }\n",
       "\n",
       "    .dataframe thead th {\n",
       "        text-align: right;\n",
       "    }\n",
       "</style>\n",
       "<table border=\"1\" class=\"dataframe\">\n",
       "  <thead>\n",
       "    <tr style=\"text-align: right;\">\n",
       "      <th></th>\n",
       "      <th>ST_NUM</th>\n",
       "      <th>ST_NAME</th>\n",
       "      <th>OWN_OCCUPIED</th>\n",
       "      <th>NUM_BEDROOMS</th>\n",
       "    </tr>\n",
       "  </thead>\n",
       "  <tbody>\n",
       "    <tr>\n",
       "      <th>0</th>\n",
       "      <td>104.0</td>\n",
       "      <td>PUTNAM</td>\n",
       "      <td>Y</td>\n",
       "      <td>3</td>\n",
       "    </tr>\n",
       "    <tr>\n",
       "      <th>1</th>\n",
       "      <td>197.0</td>\n",
       "      <td>LEXINGTON</td>\n",
       "      <td>N</td>\n",
       "      <td>3</td>\n",
       "    </tr>\n",
       "    <tr>\n",
       "      <th>2</th>\n",
       "      <td>NaN</td>\n",
       "      <td>LEXINGTON</td>\n",
       "      <td>N</td>\n",
       "      <td>NaN</td>\n",
       "    </tr>\n",
       "    <tr>\n",
       "      <th>3</th>\n",
       "      <td>201.0</td>\n",
       "      <td>BERKELEY</td>\n",
       "      <td>12</td>\n",
       "      <td>1</td>\n",
       "    </tr>\n",
       "    <tr>\n",
       "      <th>4</th>\n",
       "      <td>203.0</td>\n",
       "      <td>BERKELEY</td>\n",
       "      <td>Y</td>\n",
       "      <td>3</td>\n",
       "    </tr>\n",
       "  </tbody>\n",
       "</table>\n",
       "</div>"
      ],
      "text/plain": [
       "   ST_NUM    ST_NAME OWN_OCCUPIED NUM_BEDROOMS\n",
       "0   104.0     PUTNAM            Y            3\n",
       "1   197.0  LEXINGTON            N            3\n",
       "2     NaN  LEXINGTON            N          NaN\n",
       "3   201.0   BERKELEY           12            1\n",
       "4   203.0   BERKELEY            Y            3"
      ]
     },
     "execution_count": 2,
     "metadata": {},
     "output_type": "execute_result"
    }
   ],
   "source": [
    "tempered_dataset =  'property data.csv'\n",
    "import pandas as pd\n",
    "df = pd.read_csv(tempered_dataset)\n",
    "df.head()"
   ]
  },
  {
   "cell_type": "code",
   "execution_count": 18,
   "metadata": {},
   "outputs": [
    {
     "name": "stdout",
     "output_type": "stream",
     "text": [
      "   ST_NUM     ST_NAME OWN_OCCUPIED  NUM_BEDROOMS\n",
      "0   104.0      PUTNAM            Y           3.0\n",
      "1   197.0   LEXINGTON            N           3.0\n",
      "2   125.0   LEXINGTON            N           3.0\n",
      "3   201.0    BERKELEY            N           1.0\n",
      "4   203.0    BERKELEY            Y           3.0\n",
      "5   207.0    BERKELEY            Y           3.0\n",
      "6     NaN  WASHINGTON            N           2.0\n",
      "7   213.0     TREMONT            Y           3.0\n",
      "8   215.0     TREMONT            Y           3.0\n"
     ]
    }
   ],
   "source": [
    "print(df)"
   ]
  },
  {
   "cell_type": "code",
   "execution_count": 19,
   "metadata": {},
   "outputs": [
    {
     "name": "stdout",
     "output_type": "stream",
     "text": [
      "   ST_NUM  ST_NAME  OWN_OCCUPIED  NUM_BEDROOMS\n",
      "0   False    False         False         False\n",
      "1   False    False         False         False\n",
      "2   False    False         False         False\n",
      "3   False    False         False         False\n",
      "4   False    False         False         False\n",
      "5   False    False         False         False\n",
      "6    True    False         False         False\n",
      "7   False    False         False         False\n",
      "8   False    False         False         False\n"
     ]
    }
   ],
   "source": [
    "print(df.isnull())"
   ]
  },
  {
   "cell_type": "code",
   "execution_count": 4,
   "metadata": {},
   "outputs": [
    {
     "name": "stdout",
     "output_type": "stream",
     "text": [
      "   ST_NUM  ST_NAME  OWN_OCCUPIED  NUM_BEDROOMS\n",
      "0   False    False         False         False\n",
      "1   False    False         False         False\n",
      "2    True    False         False          True\n",
      "3   False    False         False         False\n",
      "4   False    False         False         False\n",
      "5   False    False         False          True\n",
      "6    True    False          True         False\n",
      "7   False    False         False          True\n",
      "8   False    False         False          True\n"
     ]
    }
   ],
   "source": [
    "missing_values={'na', '--'}\n",
    "df = pd.read_csv(tempered_dataset, na_values=missing_values)\n",
    "print(df.isnull())"
   ]
  },
  {
   "cell_type": "code",
   "execution_count": 5,
   "metadata": {},
   "outputs": [
    {
     "name": "stdout",
     "output_type": "stream",
     "text": [
      "0    False\n",
      "1    False\n",
      "2    False\n",
      "3    False\n",
      "4    False\n",
      "5    False\n",
      "6     True\n",
      "7    False\n",
      "8    False\n",
      "Name: OWN_OCCUPIED, dtype: bool\n"
     ]
    }
   ],
   "source": [
    "print(df['OWN_OCCUPIED'].isnull())"
   ]
  },
  {
   "cell_type": "code",
   "execution_count": 6,
   "metadata": {},
   "outputs": [
    {
     "name": "stdout",
     "output_type": "stream",
     "text": [
      "0      Y\n",
      "1      N\n",
      "2      N\n",
      "3    NaN\n",
      "4      Y\n",
      "5      Y\n",
      "6    NaN\n",
      "7      Y\n",
      "8      Y\n",
      "Name: OWN_OCCUPIED, dtype: object\n"
     ]
    }
   ],
   "source": [
    "import numpy as np\n",
    "cnt = 0\n",
    "for row in df['OWN_OCCUPIED']:\n",
    "    try:\n",
    "        int(row)\n",
    "        df.loc[cnt, 'OWN_OCCUPIED']=np.nan\n",
    "    except ValueError:\n",
    "        pass\n",
    "    cnt+=1\n",
    "\n",
    "print(df['OWN_OCCUPIED'])"
   ]
  },
  {
   "cell_type": "code",
   "execution_count": 7,
   "metadata": {},
   "outputs": [
    {
     "name": "stdout",
     "output_type": "stream",
     "text": [
      "0    False\n",
      "1    False\n",
      "2    False\n",
      "3     True\n",
      "4    False\n",
      "5    False\n",
      "6     True\n",
      "7    False\n",
      "8    False\n",
      "Name: OWN_OCCUPIED, dtype: bool\n"
     ]
    }
   ],
   "source": [
    "print(df['OWN_OCCUPIED'].isnull())"
   ]
  },
  {
   "cell_type": "code",
   "execution_count": 8,
   "metadata": {},
   "outputs": [
    {
     "name": "stdout",
     "output_type": "stream",
     "text": [
      "ST_NUM          2\n",
      "ST_NAME         0\n",
      "OWN_OCCUPIED    2\n",
      "NUM_BEDROOMS    4\n",
      "dtype: int64\n"
     ]
    }
   ],
   "source": [
    "print(df.isnull().sum())"
   ]
  },
  {
   "cell_type": "code",
   "execution_count": 9,
   "metadata": {},
   "outputs": [
    {
     "name": "stdout",
     "output_type": "stream",
     "text": [
      "True\n"
     ]
    }
   ],
   "source": [
    "print(df.isnull().values.any())"
   ]
  },
  {
   "cell_type": "code",
   "execution_count": 10,
   "metadata": {},
   "outputs": [
    {
     "name": "stdout",
     "output_type": "stream",
     "text": [
      "8\n"
     ]
    }
   ],
   "source": [
    "print(df.isnull().sum().sum())"
   ]
  },
  {
   "cell_type": "code",
   "execution_count": 11,
   "metadata": {},
   "outputs": [
    {
     "name": "stdout",
     "output_type": "stream",
     "text": [
      "0      Y\n",
      "1      N\n",
      "2      N\n",
      "3    NaN\n",
      "4      Y\n",
      "5      Y\n",
      "6    NaN\n",
      "7      Y\n",
      "8      Y\n",
      "Name: OWN_OCCUPIED, dtype: object\n"
     ]
    }
   ],
   "source": [
    "print(df['OWN_OCCUPIED'])"
   ]
  },
  {
   "cell_type": "code",
   "execution_count": 12,
   "metadata": {},
   "outputs": [
    {
     "name": "stdout",
     "output_type": "stream",
     "text": [
      "0    Y\n",
      "1    N\n",
      "2    N\n",
      "3    N\n",
      "4    Y\n",
      "5    Y\n",
      "6    N\n",
      "7    Y\n",
      "8    Y\n",
      "Name: OWN_OCCUPIED, dtype: object\n"
     ]
    }
   ],
   "source": [
    "df['OWN_OCCUPIED'].fillna('N', inplace=True)\n",
    "print(df['OWN_OCCUPIED'])"
   ]
  },
  {
   "cell_type": "code",
   "execution_count": 13,
   "metadata": {},
   "outputs": [
    {
     "name": "stdout",
     "output_type": "stream",
     "text": [
      "0    104.0\n",
      "1    197.0\n",
      "2      NaN\n",
      "3    201.0\n",
      "4    203.0\n",
      "5    207.0\n",
      "6      NaN\n",
      "7    213.0\n",
      "8    215.0\n",
      "Name: ST_NUM, dtype: float64\n"
     ]
    }
   ],
   "source": [
    "print(df['ST_NUM'])"
   ]
  },
  {
   "cell_type": "code",
   "execution_count": 14,
   "metadata": {},
   "outputs": [
    {
     "name": "stdout",
     "output_type": "stream",
     "text": [
      "0    104.0\n",
      "1    197.0\n",
      "2    125.0\n",
      "3    201.0\n",
      "4    203.0\n",
      "5    207.0\n",
      "6      NaN\n",
      "7    213.0\n",
      "8    215.0\n",
      "Name: ST_NUM, dtype: float64\n"
     ]
    }
   ],
   "source": [
    "df.loc[2, 'ST_NUM'] = 125\n",
    "print(df['ST_NUM'])"
   ]
  },
  {
   "cell_type": "code",
   "execution_count": 16,
   "metadata": {},
   "outputs": [
    {
     "name": "stdout",
     "output_type": "stream",
     "text": [
      "0    3.0\n",
      "1    3.0\n",
      "2    3.0\n",
      "3    1.0\n",
      "4    3.0\n",
      "5    3.0\n",
      "6    2.0\n",
      "7    3.0\n",
      "8    3.0\n",
      "Name: NUM_BEDROOMS, dtype: float64\n"
     ]
    }
   ],
   "source": [
    "print(df['NUM_BEDROOMS'])"
   ]
  },
  {
   "cell_type": "code",
   "execution_count": 17,
   "metadata": {},
   "outputs": [
    {
     "name": "stdout",
     "output_type": "stream",
     "text": [
      "0    3.0\n",
      "1    3.0\n",
      "2    3.0\n",
      "3    1.0\n",
      "4    3.0\n",
      "5    3.0\n",
      "6    2.0\n",
      "7    3.0\n",
      "8    3.0\n",
      "Name: NUM_BEDROOMS, dtype: float64\n"
     ]
    }
   ],
   "source": [
    "median = df['NUM_BEDROOMS'].median()\n",
    "df['NUM_BEDROOMS'].fillna(median, inplace=True)\n",
    "print(df['NUM_BEDROOMS'])"
   ]
  }
 ],
 "metadata": {
  "kernelspec": {
   "display_name": "Python 3",
   "language": "python",
   "name": "python3"
  },
  "language_info": {
   "codemirror_mode": {
    "name": "ipython",
    "version": 3
   },
   "file_extension": ".py",
   "mimetype": "text/x-python",
   "name": "python",
   "nbconvert_exporter": "python",
   "pygments_lexer": "ipython3",
   "version": "3.6.3"
  }
 },
 "nbformat": 4,
 "nbformat_minor": 2
}
